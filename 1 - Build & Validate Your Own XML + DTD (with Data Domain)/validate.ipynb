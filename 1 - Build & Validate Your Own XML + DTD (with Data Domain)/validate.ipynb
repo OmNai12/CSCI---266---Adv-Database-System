{
 "cells": [
  {
   "cell_type": "code",
   "execution_count": null,
   "id": "2fd5ec71",
   "metadata": {},
   "outputs": [],
   "source": [
    "!pip -q install lxml\n",
    "from lxml import etree\n",
    "\n",
    "with open(\"domain.dtd\",\"rb\") as f:\n",
    "    dtd = etree.DTD(f)\n",
    "\n",
    "ok = etree.parse(\"sample.xml\")\n",
    "bad = etree.parse(\"broken.xml\")\n",
    "\n",
    "print(\"sample.xml →\", \"VALID ✅\" if dtd.validate(ok) else \"NOT valid ❌\")\n",
    "print(\"broken.xml →\", \"VALID ✅\" if dtd.validate(bad) else \"NOT valid ❌\")\n",
    "\n",
    "print(\"\\nErrors (broken):\")\n",
    "for e in dtd.error_log:\n",
    "    print(\"•\", e)\n"
   ]
  }
 ],
 "metadata": {
  "language_info": {
   "name": "python"
  }
 },
 "nbformat": 4,
 "nbformat_minor": 5
}
